{
 "cells": [
  {
   "cell_type": "markdown",
   "metadata": {},
   "source": [
    "Estadística"
   ]
  },
  {
   "cell_type": "markdown",
   "metadata": {},
   "source": [
    "**Describir un solo conjunto de datos**"
   ]
  },
  {
   "cell_type": "markdown",
   "metadata": {},
   "source": [
    "Mediante una combinación de boca a boca y suerte, DataSciencester ha\n",
    "crecido y ahora tiene muchísimos miembros, y el vicepresidente de\n",
    "Recaudación de fondos quiere algún tipo de descripción de la cantidad de\n",
    "amigos que tienen sus miembros para poder incluirla en sus discursos de\n",
    "presentación.\n",
    "Utilizando las técnicas del capítulo 1, es muy sencillo producir estos\n",
    "datos. Pero ahora nos enfrentamos al problema de cómo describirlos. Una\n",
    "descripción obvia de cualquier conjunto de datos es sencillamente los propios\n",
    "datos:"
   ]
  },
  {
   "cell_type": "code",
   "execution_count": 1,
   "metadata": {},
   "outputs": [],
   "source": [
    "\n",
    "num_friends = [100.0,49,41,40,25,21,21,19,19,18,18,16,15,15,15,15,14,14,13,13,13,13,12,12,11,10,10,10,10,10,10,10,10,10,10,10,10,10,10,10,9,9,9,9,9,9,9,9,9,9,9,9,9,9,9,9,9,9,8,8,8,8,8,8,8,8,8,8,8,8,8,7,7,7,7,7,7,7,7,7,7,7,7,7,7,7,6,6,6,6,6,6,6,6,6,6,6,6,6,6,6,6,6,6,6,6,6,6,5,5,5,5,5,5,5,5,5,5,5,5,5,5,5,5,5,4,4,4,4,4,4,4,4,4,4,4,4,4,4,4,4,4,4,4,4,3,3,3,3,3,3,3,3,3,3,3,3,3,3,3,3,3,3,3,3,2,2,2,2,2,2,2,2,2,2,2,2,2,2,2,2,2,1,1,1,1,1,1,1,1,1,1,1,1,1,1,1,1,1,1,1,1,1,1]\n"
   ]
  },
  {
   "cell_type": "markdown",
   "metadata": {},
   "source": [
    "Con un conjunto de datos bastante pequeño, esta podría ser la mejor\n",
    "descripción. Pero, con otro más grande, resulta difícil de manejar y\n",
    "probablemente opaco (imagínese tener que mirar fijamente una lista de 1 millón de números). Por esta razón, utilizamos las estadísticas para sintetizar\n",
    "y comunicar las características relevantes de nuestros datos. Como primer\n",
    "enfoque, ponemos los contadores de amigos en un histograma utilizando\n",
    "Counter y plt.bar (véase la figura 5.1):"
   ]
  },
  {
   "cell_type": "code",
   "execution_count": null,
   "metadata": {},
   "outputs": [
    {
     "data": {
      "text/plain": [
       "Text(0, 0.5, '# of people')"
      ]
     },
     "execution_count": 2,
     "metadata": {},
     "output_type": "execute_result"
    },
    {
     "data": {
      "image/png": "[encoded data removed]",
      "text/plain": [
       "<Figure size 640x480 with 1 Axes>"
      ]
     },
     "metadata": {},
     "output_type": "display_data"
    }
   ],
   "source": [
    "from typing import List\n",
    "from collections import Counter\n",
    "import matplotlib.pyplot as plt\n",
    "\n",
    "friend_counts = Counter(num_friends)\n",
    "xs = range(101)                         # largest value is 100\n",
    "ys = [friend_counts[x] for x in xs]     # height is just # of friends\n",
    "plt.bar(xs, ys)\n",
    "plt.axis([0, 101, 0, 25])\n",
    "plt.title(\"Histogram of Friend Counts\")\n",
    "plt.xlabel(\"# of friends\")\n",
    "plt.ylabel(\"# of people\")\n"
   ]
  },
  {
   "cell_type": "code",
   "execution_count": 3,
   "metadata": {},
   "outputs": [],
   "source": [
    "plt.show()"
   ]
  },
  {
   "cell_type": "markdown",
   "metadata": {},
   "source": [
    "Por desgracia, sigue siendo demasiado difícil meter este gráfico en las\n",
    "conversaciones. De modo que empezamos a generar algunas estadísticas; probablemente la más sencilla es el número de puntos de datos:"
   ]
  },
  {
   "cell_type": "code",
   "execution_count": 4,
   "metadata": {},
   "outputs": [],
   "source": [
    "num_points = len(num_friends)               # 204\n",
    "\n",
    "assert num_points == 204"
   ]
  },
  {
   "cell_type": "markdown",
   "metadata": {},
   "source": [
    "Probablemente también estemos interesados en los valores mayor y\n",
    "menor"
   ]
  },
  {
   "cell_type": "code",
   "execution_count": null,
   "metadata": {},
   "outputs": [],
   "source": [
    "\n",
    "largest_value = max(num_friends)            # 100\n",
    "smallest_value = min(num_friends)           # 1\n",
    "\n",
    "assert largest_value == 100\n",
    "assert smallest_value == 1"
   ]
  },
  {
   "cell_type": "markdown",
   "metadata": {},
   "source": [
    "Que son simplemente casos especiales de querer saber cuáles son los\n",
    "valores de determinadas posiciones:"
   ]
  },
  {
   "cell_type": "code",
   "execution_count": 5,
   "metadata": {},
   "outputs": [],
   "source": [
    "\n",
    "sorted_values = sorted(num_friends)\n",
    "smallest_value = sorted_values[0]           # 1\n",
    "second_smallest_value = sorted_values[1]    # 1\n",
    "second_largest_value = sorted_values[-2]    # 49\n",
    "\n",
    "\n",
    "assert smallest_value == 1\n",
    "assert second_smallest_value == 1\n",
    "assert second_largest_value == 49"
   ]
  },
  {
   "cell_type": "markdown",
   "metadata": {},
   "source": [
    "**Tendencias centrales**"
   ]
  },
  {
   "cell_type": "markdown",
   "metadata": {},
   "source": [
    "Normalmente, querremos tener alguna noción del lugar en el que nuestros\n",
    "datos están centrados. Lo más habitual es que usemos la media (o promedio),\n",
    "que no es más que la suma de los datos dividida por el número de datos:"
   ]
  },
  {
   "cell_type": "code",
   "execution_count": null,
   "metadata": {},
   "outputs": [],
   "source": [
    "# standard_deviation\n",
    "\n",
    "def mean(xs: List[float]) -> float:\n",
    "    return sum(xs) / len(xs)\n",
    "\n",
    "mean(num_friends)   # 7.333333\n",
    "\n",
    "assert 7.3333 < mean(num_friends) < 7.3334\n"
   ]
  },
  {
   "cell_type": "markdown",
   "metadata": {},
   "source": [
    "Si tenemos dos puntos de datos, la media es simplemente el punto a mitad\n",
    "de camino entre los dos. A medida que se añaden más puntos, la media se va\n",
    "desplazando, pero siempre depende del valor de cada punto. Por ejemplo, si\n",
    "tenemos 10 puntos de datos y aumentamos el valor de cualquiera de ellos en\n",
    "1, la media aumenta en 0,1.\n",
    "\n",
    "También estaremos interesados en ocasiones en la mediana, que es el\n",
    "valor más céntrico (si el número de puntos de datos es impar) o el promedio de los dos valores más céntricos (si el número de puntos de datos es par).\n",
    "\n",
    "Por ejemplo, si tenemos cinco puntos de datos en un vector ordenado x, la\n",
    "mediana es x[5 // 2] o x[2]. Si tenemos seis puntos de datos, queremos el\n",
    "promedio de x[2] (el tercer punto) y x[3] (el cuarto punto).\n",
    "Tengamos en cuenta que (a diferencia de la media) la mediana no depende\n",
    "por completo de cada valor de los datos. Por ejemplo, si el punto más grande\n",
    "lo hacemos aún mayor (o el punto más pequeño menor), los puntos medios\n",
    "no cambian, lo que significa que la mediana sí lo hace.\n",
    "\n",
    "Escribiremos distintas funciones para los casos par e impar y las\n",
    "combinaremos:"
   ]
  },
  {
   "cell_type": "code",
   "execution_count": null,
   "metadata": {},
   "outputs": [],
   "source": [
    "\n",
    "# The underscores indicate that these are \"private\" functions, as they're\n",
    "# intended to be called by our median function but not by other people\n",
    "# using our statistics library.\n",
    "def _median_odd(xs: List[float]) -> float:\n",
    "    \"\"\"If len(xs) is odd, the median is the middle element\"\"\"\n",
    "    return sorted(xs)[len(xs) // 2]\n",
    "\n",
    "def _median_even(xs: List[float]) -> float:\n",
    "    \"\"\"If len(xs) is even, it's the average of the middle two elements\"\"\"\n",
    "    sorted_xs = sorted(xs)\n",
    "    hi_midpoint = len(xs) // 2  # e.g. length 4 => hi_midpoint 2\n",
    "    return (sorted_xs[hi_midpoint - 1] + sorted_xs[hi_midpoint]) / 2\n",
    "\n",
    "def median(v: List[float]) -> float:\n",
    "    \"\"\"Finds the 'middle-most' value of v\"\"\"\n",
    "    return _median_even(v) if len(v) % 2 == 0 else _median_odd(v)\n",
    "\n",
    "assert median([1, 10, 2, 9, 5]) == 5\n",
    "assert median([1, 9, 2, 10]) == (2 + 9) / 2\n",
    "\n"
   ]
  },
  {
   "cell_type": "markdown",
   "metadata": {},
   "source": [
    "Y ahora podemos calcular el número medio de amigos:"
   ]
  },
  {
   "cell_type": "code",
   "execution_count": null,
   "metadata": {},
   "outputs": [],
   "source": [
    "assert median(num_friends) == 6"
   ]
  },
  {
   "cell_type": "markdown",
   "metadata": {},
   "source": [
    "Sin duda, la media es más sencilla de calcular y varía ligeramente cuando\n",
    "nuestros datos cambian. Si tenemos n puntos de datos y uno de ellos aumenta\n",
    "en una cierta pequeña cantidad e, entonces la media necesariamente\n",
    "aumentará en e / n (lo que consigue que la media sea susceptible a todo tipo\n",
    "de trucos de cálculo). Pero, para hallar la mediana, tenemos que ordenar los\n",
    "datos. Y cambiar uno de nuestros puntos de datos en una pequeña cantidad e podría aumentar la mediana también en e, en una cantidad inferior a e o en\n",
    "nada en absoluto (dependiendo del resto de datos)."
   ]
  },
  {
   "cell_type": "markdown",
   "metadata": {},
   "source": [
    "Nota: En realidad, existen trucos no evidentes para calcular medianas\n",
    "eficazmente sin ordenar los datos. Sin embargo, están más allá del objetivo de\n",
    "este libro, de modo que toca ordenar los datos."
   ]
  },
  {
   "cell_type": "markdown",
   "metadata": {},
   "source": [
    "Al mismo tiempo, la media es muy sensible a los valores atípicos de\n",
    "nuestros datos. Si nuestro usuario más sociable tuviera 200 amigos (en lugar\n",
    "de 100), entonces la media subiría a 7,82, mientras que la mediana seguiría\n",
    "siendo la misma. Si es probable que los valores atípicos sean datos erróneos\n",
    "(o no representativos del fenómeno que estemos tratando de comprender),\n",
    "entonces la media puede darnos a veces una imagen equívoca. \n",
    "\n",
    "Por ejemplo, a\n",
    "menudo se cuenta la historia de que, a mediados de los años 80, la asignatura\n",
    "de la Universidad de Carolina del Norte con el salario inicial medio más alto\n",
    "era geografía, principalmente debido a la estrella de la NBA (y valor atípico)\n",
    "Michael Jordan."
   ]
  },
  {
   "cell_type": "markdown",
   "metadata": {},
   "source": [
    "Una generalización de la mediana es el cuantil, que representa el valor\n",
    "bajo el cual reside un determinado percentil de los datos (la mediana\n",
    "representa el valor bajo el cual reside el 50 % de los datos):"
   ]
  },
  {
   "cell_type": "code",
   "execution_count": null,
   "metadata": {},
   "outputs": [],
   "source": [
    "\n",
    "def quantile(xs: List[float], p: float) -> float:\n",
    "    \"\"\"Returns the pth-percentile value in x\"\"\"\n",
    "    p_index = int(p * len(xs))\n",
    "    return sorted(xs)[p_index]\n",
    "\n",
    "assert quantile(num_friends, 0.10) == 1\n",
    "assert quantile(num_friends, 0.25) == 3\n",
    "assert quantile(num_friends, 0.75) == 9\n",
    "assert quantile(num_friends, 0.90) == 13\n"
   ]
  },
  {
   "cell_type": "markdown",
   "metadata": {},
   "source": [
    "Menos habitual sería que quisiéramos mirar la moda, es decir, el valor o\n",
    "valores más comunes:"
   ]
  },
  {
   "cell_type": "code",
   "execution_count": null,
   "metadata": {},
   "outputs": [],
   "source": [
    "\n",
    "def mode(x: List[float]) -> List[float]:\n",
    "    \"\"\"Returns a list, since there might be more than one mode\"\"\"\n",
    "    counts = Counter(x)\n",
    "    max_count = max(counts.values())\n",
    "    return [x_i for x_i, count in counts.items()\n",
    "            if count == max_count]\n",
    "\n",
    "assert set(mode(num_friends)) == {1, 6}\n"
   ]
  },
  {
   "cell_type": "markdown",
   "metadata": {},
   "source": [
    "Pero lo más habitual es que utilicemos la media."
   ]
  },
  {
   "cell_type": "markdown",
   "metadata": {},
   "source": [
    "**Dispersión**"
   ]
  },
  {
   "cell_type": "markdown",
   "metadata": {},
   "source": [
    "Dispersión se refiere a las medidas de dispersión de nuestros datos.\n",
    "Normalmente son estadísticas para las que los valores cercanos a cero\n",
    "significan “no disperso en absoluto” y para las que los valores grandes (lo\n",
    "que sea que eso signifique) quieren decir “muy disperso”. Por ejemplo, una\n",
    "medida muy sencilla es el rango, que no es otra cosa que la diferencia entre\n",
    "los elementos mayor y menor:"
   ]
  },
  {
   "cell_type": "code",
   "execution_count": null,
   "metadata": {},
   "outputs": [],
   "source": [
    "# Rango: Representa la diferencia entre los valores máximo y mínimo de un conjunto de datos. \n",
    "# \"range\" already means something in Python, so we'll use a different name\n",
    "def data_range(xs: List[float]) -> float:\n",
    "    return max(xs) - min(xs)\n",
    "\n",
    "assert data_range(num_friends) == 99\n"
   ]
  },
  {
   "cell_type": "markdown",
   "metadata": {},
   "source": [
    "El rango es cero precisamente cuando el max y el min son iguales, cosa que\n",
    "solo puede ocurrir si los elementos de x son todos iguales, lo que significa\n",
    "que los datos están tan poco dispersos como es posible. A la inversa, si el\n",
    "rango es grande, entonces el max es mucho más grande que el min y los datos\n",
    "están más dispersos.\n",
    "\n",
    "Al igual que ocurre con la mediana, en realidad el rango no depende del\n",
    "conjunto de datos entero. Un conjunto de datos cuyos puntos son todos 0 o\n",
    "100 tiene el mismo rango que otro cuyos valores sean 0, 100 y muchos 50.\n",
    "Pero parece que el primer conjunto de datos “debería” estar más disperso.\n",
    "Una medida más compleja de dispersión es la varianza, que se calcula\n",
    "como:"
   ]
  },
  {
   "cell_type": "code",
   "execution_count": null,
   "metadata": {},
   "outputs": [],
   "source": [
    "\n",
    "from scratch.linear_algebra import sum_of_squares\n",
    "\n",
    "def de_mean(xs: List[float]) -> List[float]:\n",
    "    \"\"\"Translate xs by subtracting its mean (so the result has mean 0)\"\"\"\n",
    "    x_bar = mean(xs)\n",
    "    return [x - x_bar for x in xs]\n",
    "\n",
    "def variance(xs: List[float]) -> float:\n",
    "    \"\"\"Almost the average squared deviation from the mean\"\"\"\n",
    "    assert len(xs) >= 2, \"variance requires at least two elements\"\n",
    "\n",
    "    n = len(xs)\n",
    "    deviations = de_mean(xs)\n",
    "    return sum_of_squares(deviations) / (n - 1)\n",
    "\n",
    "assert 81.54 < variance(num_friends) < 81.55\n"
   ]
  },
  {
   "cell_type": "code",
   "execution_count": null,
   "metadata": {},
   "outputs": [],
   "source": [
    "# DESVIACIÓN MEDIA Media aritmética de los valores absolutos de las desviaciones con respecto a la media aritmética.\n",
    "\n",
    "def desv_media(xs: List[float]) -> float:    \n",
    "    return de_mean(xs) / len(xs)"
   ]
  },
  {
   "cell_type": "markdown",
   "metadata": {},
   "source": [
    "Nota: Parece que esto sea casi la desviación cuadrática promedio respecto a\n",
    "la media, salvo que estamos dividiendo por n - 1 en lugar de por n. De hecho,\n",
    "cuando tratamos con una muestra de una población mayor, x_bar es solamente\n",
    "una estimación de la media real, lo que significa que en promedio (x_i - x_bar)\n",
    "** 2 es una subestimación de la desviación cuadrática de x_i con respecto a la\n",
    "media, razón por la cual dividimos por n - 1 en lugar de por n. Consulte la\n",
    "Wikipedia"
   ]
  },
  {
   "cell_type": "markdown",
   "metadata": {},
   "source": [
    "Ahora, sin importar en qué unidades estén nuestros datos (por ejemplo,\n",
    "“amigos”), todas nuestras medidas de tendencia central están en la misma\n",
    "unidad, igual que el rango. Pero la varianza, por otro lado, tiene unidades que\n",
    "son el cuadrado de las originales (es decir, “amigos al cuadrado”). Como\n",
    "puede resultar difícil darle sentido a esto, a menudo recurrimos en su lugar a\n",
    "la desviación estándar:"
   ]
  },
  {
   "cell_type": "code",
   "execution_count": null,
   "metadata": {},
   "outputs": [],
   "source": [
    "\n",
    "import math\n",
    "\n",
    "def standard_deviation(xs: List[float]) -> float:\n",
    "    \"\"\"The standard deviation is the square root of the variance\"\"\"\n",
    "    return math.sqrt(variance(xs))\n",
    "\n",
    "assert 9.02 < standard_deviation(num_friends) < 9.04\n"
   ]
  },
  {
   "cell_type": "markdown",
   "metadata": {},
   "source": [
    "Tanto el rango como la desviación estándar tienen el mismo problema de\n",
    "valor atípico que vimos antes con la media. Utilizando el mismo ejemplo, si\n",
    "nuestro usuario más sociable tuviera realmente 200 amigos, la desviación\n",
    "estándar sería 14,89 (¡más del 60 % más elevada!).\n",
    "Una alternativa más robusta calcula la diferencia entre los percentiles 75 y\n",
    "25:"
   ]
  },
  {
   "cell_type": "code",
   "execution_count": null,
   "metadata": {},
   "outputs": [],
   "source": [
    "\n",
    "def interquartile_range(xs: List[float]) -> float:\n",
    "    \"\"\"Returns the difference between the 75%-ile and the 25%-ile\"\"\"\n",
    "    return quantile(xs, 0.75) - quantile(xs, 0.25)\n",
    "\n",
    "assert interquartile_range(num_friends) == 6\n",
    "\n"
   ]
  },
  {
   "cell_type": "markdown",
   "metadata": {},
   "source": [
    "Que apenas se ve afectada por una pequeña cantidad de valores atípicos."
   ]
  }
 ],
 "metadata": {
  "kernelspec": {
   "display_name": "base",
   "language": "python",
   "name": "python3"
  },
  "language_info": {
   "codemirror_mode": {
    "name": "ipython",
    "version": 3
   },
   "file_extension": ".py",
   "mimetype": "text/x-python",
   "name": "python",
   "nbconvert_exporter": "python",
   "pygments_lexer": "ipython3",
   "version": "3.11.7"
  }
 },
 "nbformat": 4,
 "nbformat_minor": 2
}
