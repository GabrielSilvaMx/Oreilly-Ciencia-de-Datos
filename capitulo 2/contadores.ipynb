{
 "cells": [
  {
   "cell_type": "markdown",
   "metadata": {},
   "source": [
    "Contadores"
   ]
  },
  {
   "cell_type": "markdown",
   "metadata": {},
   "source": [
    "Un Counter convierte una secuencia de valores en un objeto de tipo defaultdict(int) mapeando claves en contadores:"
   ]
  },
  {
   "cell_type": "code",
   "execution_count": 2,
   "metadata": {},
   "outputs": [],
   "source": [
    "from collections import defaultdict, Counter"
   ]
  },
  {
   "cell_type": "code",
   "execution_count": 3,
   "metadata": {},
   "outputs": [
    {
     "name": "stdout",
     "output_type": "stream",
     "text": [
      "1\n"
     ]
    }
   ],
   "source": [
    "c = Counter([0, 1, 2, 0]) # c es (básicamente) {0: 2, 1: 1, 2: 1}\n",
    "print(c[1])"
   ]
  },
  {
   "cell_type": "markdown",
   "metadata": {},
   "source": [
    "Lo que nos ofrece un modo muy sencillo de resolver problemas de\n",
    "word_counts:\n"
   ]
  },
  {
   "cell_type": "code",
   "execution_count": 7,
   "metadata": {},
   "outputs": [],
   "source": [
    "document = \"\"\" \n",
    "Lorem ipsum dolor sit amet, consectetur adipiscing elit.\n",
    "Nullam eget odio nec justo ultricies aliquam.\n",
    "Nullam vel eros nec nulla facilisis ultricies.\n",
    "Nullam eget odio nec justo ultricies aliquam.\n",
    "\"\"\""
   ]
  },
  {
   "cell_type": "code",
   "execution_count": 8,
   "metadata": {},
   "outputs": [],
   "source": [
    "# recuerde, document es una lista de palabras\n",
    "word_counts = Counter(document)\n"
   ]
  },
  {
   "cell_type": "markdown",
   "metadata": {},
   "source": [
    "Una instancia Counter tiene un método most_common que se utiliza con\n",
    "frecuencia:\n"
   ]
  },
  {
   "cell_type": "code",
   "execution_count": 9,
   "metadata": {},
   "outputs": [
    {
     "name": "stdout",
     "output_type": "stream",
     "text": [
      "  26\n",
      "i 19\n",
      "e 17\n",
      "l 17\n",
      "u 13\n",
      "s 12\n",
      "t 12\n",
      "o 11\n",
      "a 11\n",
      "c 10\n"
     ]
    }
   ],
   "source": [
    "# imprime las 10 palabras más comunes y sus contadores\n",
    "for word, count in word_counts.most_common(10):\n",
    "    print(word, count)"
   ]
  }
 ],
 "metadata": {
  "kernelspec": {
   "display_name": "dsfs",
   "language": "python",
   "name": "python3"
  },
  "language_info": {
   "codemirror_mode": {
    "name": "ipython",
    "version": 3
   },
   "file_extension": ".py",
   "mimetype": "text/x-python",
   "name": "python",
   "nbconvert_exporter": "python",
   "pygments_lexer": "ipython3",
   "version": "3.6.13"
  }
 },
 "nbformat": 4,
 "nbformat_minor": 2
}
