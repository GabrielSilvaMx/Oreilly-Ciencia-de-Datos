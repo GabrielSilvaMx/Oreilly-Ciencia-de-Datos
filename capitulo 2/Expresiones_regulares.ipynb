{
 "cells": [
  {
   "cell_type": "markdown",
   "metadata": {},
   "source": [
    "Expresiones regulares"
   ]
  },
  {
   "cell_type": "markdown",
   "metadata": {},
   "source": [
    "Las expresiones regulares ofrecen un modo de buscar texto. Son\n",
    "increíblemente útiles, pero también bastante complicadas (tanto, que hay\n",
    "escritos libros enteros sobre ellas). Entraremos en detalle las pocas veces que\n",
    "nos las encontremos; estos son algunos ejemplos de cómo utilizarlas en\n",
    "Python:\n"
   ]
  },
  {
   "cell_type": "code",
   "execution_count": null,
   "metadata": {},
   "outputs": [],
   "source": [
    "import re\n",
    "re_examples = [                          # Todas son True, porque\n",
    "    not re.match(\"a\", \"cat\"),            # 'cat' no empieza por 'a'\n",
    "    re.search(\"a\", \"cat\"),               # 'cat' contiene una 'a'\n",
    "    not re.search(\"c\", \"dog\"),           # 'dog' no contiene una 'c'.\n",
    "    3 == len(re.split(\"[ab]\", \"carbs\")), # Partido en a o b para ['c','r','s'].\n",
    "    \"R-D-\" == re.sub(\"[0-9]\", \"-\", \"R2D2\") # Reemplaza dígitos por guiones. \n",
    "] \n",
    "assert all(re_examples), \"all the regex examples should be True\""
   ]
  },
  {
   "cell_type": "markdown",
   "metadata": {},
   "source": [
    "Algo importante a tener en cuenta es que re.match comprueba si el\n",
    "principio de una cadena coincide con una expresión regular, mientras que\n",
    "re.search lo comprueba con alguna parte de una cadena. En algún momento\n",
    "es probable que se mezclen los dos y creen problemas.\n"
   ]
  },
  {
   "cell_type": "markdown",
   "metadata": {},
   "source": [
    "La documentación oficial en\n",
    "https://docs.python.org/es/3/library/re.html ofrece muchos más\n",
    "detalles"
   ]
  }
 ],
 "metadata": {
  "language_info": {
   "name": "python"
  }
 },
 "nbformat": 4,
 "nbformat_minor": 2
}
