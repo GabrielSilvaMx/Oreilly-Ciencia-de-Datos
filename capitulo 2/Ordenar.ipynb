{
 "cells": [
  {
   "cell_type": "markdown",
   "metadata": {},
   "source": [
    "Ordenar"
   ]
  },
  {
   "cell_type": "markdown",
   "metadata": {},
   "source": [
    "Toda lista de Python tiene un método sort que la ordena en su lugar. Si\n",
    "no queremos estropear nuestra lista, podemos usar la función sorted, que\n",
    "devuelve una lista nueva:\n"
   ]
  },
  {
   "cell_type": "code",
   "execution_count": null,
   "metadata": {},
   "outputs": [],
   "source": [
    "x = [4, 1, 2, 3]\n",
    "y = sorted(x) # y es [1, 2, 3, 4], x queda igual\n",
    "x.sort() # ahora x es [1, 2, 3, 4]\n"
   ]
  },
  {
   "cell_type": "code",
   "execution_count": 12,
   "metadata": {},
   "outputs": [
    {
     "name": "stdout",
     "output_type": "stream",
     "text": [
      "['\\n', ' ', ',', '.', 'L', 'N', 'a', 'c', 'd', 'e', 'f', 'g', 'i', 'j', 'l', 'm', 'n', 'o', 'p', 'q', 'r', 's', 't', 'u', 'v']\n"
     ]
    }
   ],
   "source": [
    "from collections import defaultdict, Counter\n",
    "\n",
    "document = \"\"\" \n",
    "Lorem ipsum dolor sit amet, consectetur adipiscing elit.\n",
    "Nullam eget odio nec justo ultricies aliquam.\n",
    "Nullam vel eros nec nulla facilisis ultricies.\n",
    "Nullam eget odio nec justo ultricies aliquam.\n",
    "\"\"\"\n",
    "# recuerde, document es una lista de palabras\n",
    "word_counts = Counter(document)\n",
    "print(sorted(word_counts))"
   ]
  },
  {
   "cell_type": "markdown",
   "metadata": {},
   "source": [
    "Por defecto, sort (y sorted) ordena una lista de menor a mayor\n",
    "basándose en comparar inocentemente los elementos uno con otro.\n",
    "Si queremos que los elementos estén ordenados de mayor a menor, se\n",
    "puede especificar un parámetro reverse=True. Y, en lugar de comparar los\n",
    "elementos por sí mismos, se pueden comparar los resultados de una función\n",
    "que se especifica con key:\n"
   ]
  },
  {
   "cell_type": "code",
   "execution_count": 14,
   "metadata": {},
   "outputs": [
    {
     "name": "stdout",
     "output_type": "stream",
     "text": [
      "dict_items([(' ', 26), ('\\n', 5), ('L', 1), ('o', 11), ('r', 7), ('e', 17), ('m', 8), ('i', 19), ('p', 2), ('s', 12), ('u', 13), ('d', 4), ('l', 17), ('t', 12), ('a', 11), (',', 1), ('c', 10), ('n', 6), ('g', 3), ('.', 4), ('N', 3), ('j', 2), ('q', 2), ('v', 1), ('f', 1)])\n",
      "[(' ', 26), ('i', 19), ('e', 17), ('l', 17), ('u', 13), ('s', 12), ('t', 12), ('o', 11), ('a', 11), ('c', 10), ('m', 8), ('r', 7), ('n', 6), ('\\n', 5), ('d', 4), ('.', 4), ('g', 3), ('N', 3), ('p', 2), ('j', 2), ('q', 2), ('L', 1), (',', 1), ('v', 1), ('f', 1)]\n"
     ]
    }
   ],
   "source": [
    "# ordena la lista por valor absoluto de mayor a menor\n",
    "x = sorted([-4, 1, -2, 3], key=abs, reverse=True) # is [-4, 3, -2, 1]\n",
    "# ordena las palabras y contadores del contador mayor al menor\n",
    "print(word_counts.items())\n",
    "wc = sorted(word_counts.items(),\n",
    "        key=lambda word_and_count: word_and_count[1],\n",
    "        reverse=True)\n",
    "print(wc)"
   ]
  }
 ],
 "metadata": {
  "kernelspec": {
   "display_name": "base",
   "language": "python",
   "name": "python3"
  },
  "language_info": {
   "codemirror_mode": {
    "name": "ipython",
    "version": 3
   },
   "file_extension": ".py",
   "mimetype": "text/x-python",
   "name": "python",
   "nbconvert_exporter": "python",
   "pygments_lexer": "ipython3",
   "version": "3.11.7"
  }
 },
 "nbformat": 4,
 "nbformat_minor": 2
}
