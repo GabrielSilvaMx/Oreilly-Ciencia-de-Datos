{
 "cells": [
  {
   "cell_type": "markdown",
   "metadata": {},
   "source": [
    "Ordenar"
   ]
  },
  {
   "cell_type": "markdown",
   "metadata": {},
   "source": [
    "Toda lista de Python tiene un método sort que la ordena en su lugar. Si\n",
    "no queremos estropear nuestra lista, podemos usar la función sorted, que\n",
    "devuelve una lista nueva:\n"
   ]
  },
  {
   "cell_type": "code",
   "execution_count": null,
   "metadata": {},
   "outputs": [],
   "source": [
    "x = [4, 1, 2, 3]\n",
    "y = sorted(x) # y es [1, 2, 3, 4], x queda igual\n",
    "x.sort() # ahora x es [1, 2, 3, 4]\n"
   ]
  },
  {
   "cell_type": "markdown",
   "metadata": {},
   "source": [
    "Por defecto, sort (y sorted) ordena una lista de menor a mayor\n",
    "basándose en comparar inocentemente los elementos uno con otro.\n",
    "Si queremos que los elementos estén ordenados de mayor a menor, se\n",
    "puede especificar un parámetro reverse=True. Y, en lugar de comparar los\n",
    "elementos por sí mismos, se pueden comparar los resultados de una función\n",
    "que se especifica con key:\n"
   ]
  },
  {
   "cell_type": "code",
   "execution_count": null,
   "metadata": {},
   "outputs": [],
   "source": [
    "# ordena la lista por valor absoluto de mayor a menor\n",
    "x = sorted([-4, 1, -2, 3], key=abs, reverse=True) # is [-4, 3, -2, 1]\n",
    "# ordena las palabras y contadores del contador mayor al menor\n",
    "wc = sorted(word_counts.items(),\n",
    "        key=lambda word_and_count: word_and_count[1],\n",
    "        reverse=True)"
   ]
  }
 ],
 "metadata": {
  "language_info": {
   "name": "python"
  }
 },
 "nbformat": 4,
 "nbformat_minor": 2
}
