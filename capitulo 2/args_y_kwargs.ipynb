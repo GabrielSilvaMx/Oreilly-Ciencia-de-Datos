{
 "cells": [
  {
   "cell_type": "markdown",
   "metadata": {},
   "source": [
    "args y kwargs"
   ]
  },
  {
   "cell_type": "markdown",
   "metadata": {},
   "source": [
    "Digamos que queremos crear una función de máximo orden que requiere\n",
    "como entrada una función f y devuelve una función nueva que para cualquier\n",
    "entrada devuelve el doble del valor de f:\n"
   ]
  },
  {
   "cell_type": "code",
   "execution_count": null,
   "metadata": {},
   "outputs": [],
   "source": [
    "def doubler(f):\n",
    "# Aquí definimos una nueva función que mantiene una referencia a f\n",
    "    def g(x):\n",
    "        return 2 * f(x)\n",
    "    # Y devuelve esa nueva función\n",
    "    return g\n"
   ]
  },
  {
   "cell_type": "markdown",
   "metadata": {},
   "source": [
    "Esto funciona en algunos casos:\n"
   ]
  },
  {
   "cell_type": "code",
   "execution_count": null,
   "metadata": {},
   "outputs": [],
   "source": [
    "def f1(x):\n",
    "    return x + 1\n",
    "g = doubler(f1)\n",
    "assert g(3) == 8, \"(3 + 1) * 2 should equal 8\"\n",
    "assert g(-1) == 0, \"(-1 + 1) * 2 should equal 0\"\n"
   ]
  },
  {
   "cell_type": "markdown",
   "metadata": {},
   "source": [
    "Sin embargo, no sirve con funciones que requieren algo más que un solo\n",
    "argumento:\n"
   ]
  },
  {
   "cell_type": "code",
   "execution_count": null,
   "metadata": {},
   "outputs": [],
   "source": [
    "def f2(x, y):\n",
    "    return x + y\n",
    "g = doubler(f2)\n",
    "try:\n",
    "    g(1, 2)\n",
    "except TypeError:\n",
    "    print(\"cas defined, g only takes one argument\")\n"
   ]
  },
  {
   "cell_type": "markdown",
   "metadata": {},
   "source": [
    "Lo que necesitamos es una forma de especificar una función que tome\n",
    "argumentos arbitrarios. Podemos hacerlo con desempaquetado de argumento\n",
    "y un poco de magia:\n"
   ]
  },
  {
   "cell_type": "code",
   "execution_count": null,
   "metadata": {},
   "outputs": [],
   "source": [
    "def magic(*args, **kwargs):\n",
    "    print(\"unnamed args:\", args)\n",
    "    print(\"keyword args:\", kwargs)\n",
    "magic(1, 2, key=\"word\", key2=\"word2\")\n",
    "# imprime\n",
    "# argumentos sin nombre: (1, 2)\n",
    "# argumentos de palabra clave: {‘key’: ‘word’, ‘key2’: ‘word2’}\n"
   ]
  },
  {
   "cell_type": "markdown",
   "metadata": {},
   "source": [
    "Es decir, cuando definimos una función como esta, args es una tupla de\n",
    "sus argumentos sin nombre y kwargs es un dict de sus argumentos con\n",
    "nombre. Funciona también a la inversa, si queremos utilizar una list (o\n",
    "tuple) y dict para proporcionar argumentos a una función:\n"
   ]
  },
  {
   "cell_type": "code",
   "execution_count": null,
   "metadata": {},
   "outputs": [],
   "source": [
    "def other_way_magic(x, y, z):\n",
    "    return x + y + z\n",
    "x_y_list = [1, 2]\n",
    "z_dict = {\"z\": 3}\n",
    "assert other_way_magic(*x_y_list, **z_dict) == 6, \"1 + 2 + 3 should be 6\"\n"
   ]
  },
  {
   "cell_type": "markdown",
   "metadata": {},
   "source": [
    "Se podría hacer todo tipo de trucos extraños con esto; solo lo utilizaremos\n",
    "para producir funciones de máximo orden cuyas entradas puedan aceptar\n",
    "argumentos arbitrarios:\n"
   ]
  },
  {
   "cell_type": "code",
   "execution_count": null,
   "metadata": {},
   "outputs": [],
   "source": [
    "def doubler_correct(f):\n",
    "    \"\"\"works no matter what kind of inputs f expects\"\"\"\n",
    "    def g(*args, **kwargs):\n",
    "        \"\"\"whatever arguments g is supplied, pass them through to f\"\"\"\n",
    "        return 2 * f(*args, **kwargs)\n",
    "    return g\n",
    "g = doubler_correct(f2)\n",
    "assert g(1, 2) == 6, \"doubler should work now\"\n"
   ]
  },
  {
   "cell_type": "markdown",
   "metadata": {},
   "source": [
    "Como regla general, el código que escribamos será más correcto y legible\n",
    "si somos explícitos en lo que se refiere a los tipos de argumentos que las\n",
    "funciones que usemos requieren; de ahí que vayamos a utilizar args y kwargs\n",
    "solo cuando no tengamos otra opción"
   ]
  }
 ],
 "metadata": {
  "language_info": {
   "name": "python"
  }
 },
 "nbformat": 4,
 "nbformat_minor": 2
}
