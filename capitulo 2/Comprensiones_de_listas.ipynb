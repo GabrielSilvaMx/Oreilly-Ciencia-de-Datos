{
 "cells": [
  {
   "cell_type": "markdown",
   "metadata": {},
   "source": [
    "Comprensiones de listas"
   ]
  },
  {
   "cell_type": "markdown",
   "metadata": {},
   "source": [
    "Con frecuencia, vamos a querer transformar una lista en otra distinta\n",
    "seleccionando solo determinados elementos, transformando elementos o\n",
    "haciendo ambas cosas. La forma pitónica de hacer esto es con list\n",
    "comprehensions, o comprensiones de listas:\n"
   ]
  },
  {
   "cell_type": "code",
   "execution_count": null,
   "metadata": {},
   "outputs": [],
   "source": [
    "even_numbers = [x for x in range(5) if x % 2 == 0] # [0, 2, 4]\n",
    "squares = [x * x for x in range(5)] # [0, 1, 4, 9, 16]\n",
    "even_squares = [x * x for x in even_numbers] # [0, 4, 16]\n"
   ]
  },
  {
   "cell_type": "markdown",
   "metadata": {},
   "source": [
    "De forma similar, se pueden convertir listas en diccionarios o conjuntos:\n"
   ]
  },
  {
   "cell_type": "code",
   "execution_count": null,
   "metadata": {},
   "outputs": [],
   "source": [
    "square_dict = {x: x * x for x in range(5)}\n",
    "# {0: 0, 1: 1, 2: 4, 3: 9, 4: 16}\n",
    "square_set = {x * x for x in [1, -1]} # {1}\n"
   ]
  },
  {
   "cell_type": "markdown",
   "metadata": {},
   "source": [
    "Si no necesitamos el valor de la lista, es habitual utilizar un guion bajo\n",
    "como variable:\n"
   ]
  },
  {
   "cell_type": "code",
   "execution_count": null,
   "metadata": {},
   "outputs": [],
   "source": [
    "zeros = [0 for _ in\n",
    "even_numbers]\n",
    "# tiene la misma longitud que\n",
    "even_numbers\n"
   ]
  },
  {
   "cell_type": "markdown",
   "metadata": {},
   "source": [
    "Una comprensión de lista puede incluir varios for:\n"
   ]
  },
  {
   "cell_type": "code",
   "execution_count": null,
   "metadata": {},
   "outputs": [],
   "source": [
    "pairs = [(x, y)\n",
    "for x in range(10)\n",
    "for y in range(10)] # 100 pares (0,0) (0,1) ... (9,8), (9,9)\n"
   ]
  },
  {
   "cell_type": "markdown",
   "metadata": {},
   "source": [
    "Y después los for pueden utilizar los resultados de los anteriores:\n"
   ]
  },
  {
   "cell_type": "code",
   "execution_count": null,
   "metadata": {},
   "outputs": [],
   "source": [
    "increasing_pairs = [(x, y) # solo pares con x < y,\n",
    "for x in range(10) # range(bajo, alto) es igual a\n",
    "for y in range(x + 1, 10)] # [bajo, bajo + 1, ..., alto–1]\n"
   ]
  },
  {
   "cell_type": "markdown",
   "metadata": {},
   "source": [
    "Utilizaremos mucho las comprensiones de listas."
   ]
  },
  {
   "cell_type": "markdown",
   "metadata": {},
   "source": []
  }
 ],
 "metadata": {
  "language_info": {
   "name": "python"
  }
 },
 "nbformat": 4,
 "nbformat_minor": 2
}
