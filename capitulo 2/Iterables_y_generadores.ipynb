{
 "cells": [
  {
   "cell_type": "markdown",
   "metadata": {},
   "source": [
    "Iterables y generadores\n"
   ]
  },
  {
   "cell_type": "markdown",
   "metadata": {},
   "source": [
    "Una cosa buena de las listas es que se pueden recuperar determinados\n",
    "elementos por sus índices. Pero ¡esto no siempre es necesario! Una lista de\n",
    "mil millones de números ocupa mucha memoria. Si solo queremos los\n",
    "elementos uno cada vez, no hay una buena razón que nos haga conservarlos a\n",
    "todos. Si solamente terminamos necesitando los primeros elementos, generar\n",
    "los mil millones es algo tremendamente inútil.\n",
    "A menudo, todo lo que necesitamos es pasar varias veces por la colección\n",
    "utilizando for e in. En este caso podemos crear generadores, que se pueden iterar igual que si fueran listas, pero generan sus valores bajo petición.\n",
    "Una forma de crear generadores es con funciones y con el operador yield:\n"
   ]
  },
  {
   "cell_type": "code",
   "execution_count": null,
   "metadata": {},
   "outputs": [],
   "source": [
    "def generate_range(n):\n",
    "    i = 0\n",
    "    while i < n:\n",
    "        yield i # cada llamada a yield produce un valor del generador\n",
    "        i += 1\n"
   ]
  },
  {
   "cell_type": "markdown",
   "metadata": {},
   "source": [
    "El siguiente bucle consumirá uno a uno los valores a los que se ha\n",
    "aplicado yield hasta que no quede ninguno:\n"
   ]
  },
  {
   "cell_type": "code",
   "execution_count": null,
   "metadata": {},
   "outputs": [],
   "source": [
    "for i in generate_range(10):\n",
    "    print(f\"i: {i}\")"
   ]
  },
  {
   "cell_type": "markdown",
   "metadata": {},
   "source": [
    "(En realidad, range es bastante perezosa de por sí, así que hacer esto no\n",
    "tiene ningún sentido).\n",
    "Con un generador, incluso se puede crear una secuencia infinita:\n"
   ]
  },
  {
   "cell_type": "code",
   "execution_count": null,
   "metadata": {},
   "outputs": [],
   "source": [
    "def natural_numbers():\n",
    "    \"\"\"returns 1, 2, 3, ...\"\"\"\n",
    "    n = 1\n",
    "    while True:\n",
    "        yield n\n",
    "        n += 1\n"
   ]
  },
  {
   "cell_type": "markdown",
   "metadata": {},
   "source": [
    "Aunque probablemente no deberíamos iterar sobre él sin utilizar algún\n",
    "tipo de lógica de interrupción.\n",
    "Truco: La otra cara de la pereza es que solo se puede iterar una única vez por\n",
    "un generador. Si hace falta pasar varias veces, habrá que volver a crear el\n",
    "generador cada vez o bien utilizar una lista. Si generar los valores resulta caro,\n",
    "podría ser una buena razón para utilizar una lista en su lugar.\n",
    "Una segunda manera de crear generadores es utilizar las comprensiones\n",
    "envueltas en paréntesis:\n"
   ]
  },
  {
   "cell_type": "code",
   "execution_count": null,
   "metadata": {},
   "outputs": [],
   "source": [
    "evens_below_20 = (i for i in generate_range(20) if i % 2 == 0)"
   ]
  },
  {
   "cell_type": "markdown",
   "metadata": {},
   "source": [
    "\n",
    "Una “comprensión de generador” como esta no hace nada hasta que se\n",
    "itera sobre ella (utilizando for o next). Podemos utilizar esto para crear\n",
    "complicadas líneas de proceso de datos:\n"
   ]
  },
  {
   "cell_type": "code",
   "execution_count": null,
   "metadata": {},
   "outputs": [],
   "source": [
    "# Ninguno de estos cálculos *hace* nada hasta que iteramos\n",
    "data = natural_numbers()\n",
    "evens = (x for x in data if x % 2 == 0)\n",
    "even_squares = (x ** 2 for x in evens)\n",
    "even_squares_ending_in_six = (x for x in even_squares if x % 10 == 6) # y así sucesivamente\n"
   ]
  },
  {
   "cell_type": "markdown",
   "metadata": {},
   "source": [
    "No pocas veces, cuando estemos iterando sobre una lista o un generador,\n",
    "no querremos solamente los valores, sino también sus índices. Para este caso\n",
    "habitual, Python ofrece una función enumerate, que convierte valores en\n",
    "pares (index, value):\n"
   ]
  },
  {
   "cell_type": "code",
   "execution_count": null,
   "metadata": {},
   "outputs": [],
   "source": [
    "names = [\"Alice\", \"Bob\", \"Charlie\", \"Debbie\"] # no pitónico\n",
    "for i in range(len(names)):\n",
    "    print(f\"name {i} is {names[i]}\") # tampoco pitónico\n",
    "i = 0\n",
    "for name in names:\n",
    "    print(f\"name {i} is {names[i]}\")\n",
    "    i += 1 # pitónico\n",
    "for i, name in enumerate(names):\n",
    "    print(f\"name {i} is {name}\")\n"
   ]
  },
  {
   "cell_type": "markdown",
   "metadata": {},
   "source": [
    "Utilizaremos mucho esto"
   ]
  }
 ],
 "metadata": {
  "language_info": {
   "name": "python"
  }
 },
 "nbformat": 4,
 "nbformat_minor": 2
}
