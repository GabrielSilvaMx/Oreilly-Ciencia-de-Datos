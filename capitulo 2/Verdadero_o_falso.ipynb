{
 "cells": [
  {
   "cell_type": "markdown",
   "metadata": {},
   "source": [
    "Verdadero o falso"
   ]
  },
  {
   "cell_type": "markdown",
   "metadata": {},
   "source": [
    "Los valores booleanos en Python funcionan igual que en casi todos los\n",
    "demás lenguajes, excepto que llevan la primera letra en mayúscula:\n"
   ]
  },
  {
   "cell_type": "code",
   "execution_count": null,
   "metadata": {},
   "outputs": [],
   "source": [
    "one_is_less_than_two = 1 < 2 # es igual a True\n",
    "true_equals_false = True == False # es igual a False"
   ]
  },
  {
   "cell_type": "markdown",
   "metadata": {},
   "source": [
    "Python utiliza el valor None para indicar un valor no existente. Es similar\n",
    "al null de otros lenguajes:"
   ]
  },
  {
   "cell_type": "code",
   "execution_count": null,
   "metadata": {},
   "outputs": [],
   "source": [
    "x = None\n",
    "assert x == None, \"this is the not the Pythonic way to check for None\"\n",
    "assert x is None, \"this is the Pythonic way to check for None\""
   ]
  },
  {
   "cell_type": "markdown",
   "metadata": {},
   "source": [
    "Python permite utilizar cualquier valor donde espera un booleano. Las\n",
    "siguientes expresiones son todas “falsas”:\n",
    "\n",
    "- ■ False.\n",
    "- ■ None.\n",
    "- ■ [] (una list vacía).\n",
    "- ■ {} (un dict vacío).\n",
    "- ■ “”.\n",
    "- ■ set().\n",
    "- ■ 0.\n",
    "- ■ 0.0.\n",
    "\n",
    "Casi todo lo demás se trata como True. Ello permite utilizar fácilmente\n",
    "sentencias if para probar listas vacías, cadenas vacías, diccionarios vacíos,\n",
    "etc. También produce en ocasiones errores complicados si no se espera este\n",
    "comportamiento:\n"
   ]
  },
  {
   "cell_type": "code",
   "execution_count": 3,
   "metadata": {},
   "outputs": [
    {
     "name": "stdout",
     "output_type": "stream",
     "text": [
      "False\n"
     ]
    }
   ],
   "source": [
    "#s = some_function_that_returns_a_string()\n",
    "s = \"\"\n",
    "if s:\n",
    "    first_char = s[0]\n",
    "else:\n",
    "    first_char = \"False\"\n",
    "print(first_char)"
   ]
  },
  {
   "cell_type": "markdown",
   "metadata": {},
   "source": [
    "Una forma más corta (pero posiblemente más confusa) de hacer lo mismo\n",
    "es:\n"
   ]
  },
  {
   "cell_type": "code",
   "execution_count": null,
   "metadata": {},
   "outputs": [],
   "source": [
    "first_char = s and s[0]"
   ]
  },
  {
   "cell_type": "markdown",
   "metadata": {},
   "source": [
    "Ya que and devuelve su segundo valor cuando el primero es “verdadero”,\n",
    "y el primer valor cuando no lo es. De forma similar, si x es o bien un número\n",
    "o posiblemente None:\n"
   ]
  },
  {
   "cell_type": "code",
   "execution_count": null,
   "metadata": {},
   "outputs": [],
   "source": [
    "safe_x = x or 0\n"
   ]
  },
  {
   "cell_type": "markdown",
   "metadata": {},
   "source": [
    "Es definitivamente un número, aunque:\n"
   ]
  },
  {
   "cell_type": "code",
   "execution_count": null,
   "metadata": {},
   "outputs": [],
   "source": [
    "safe_x = x if x is not None else 0\n"
   ]
  },
  {
   "cell_type": "markdown",
   "metadata": {},
   "source": [
    "Es posiblemente más legible.\n",
    "Python tiene una función all, que toma un iterable y devuelve True\n",
    "exactamente cuando cada elemento es verdadero, y una función any, que\n",
    "devuelve True cuando al menos un elemento es verdad:\n"
   ]
  },
  {
   "cell_type": "code",
   "execution_count": 6,
   "metadata": {},
   "outputs": [
    {
     "name": "stdout",
     "output_type": "stream",
     "text": [
      "True\n"
     ]
    },
    {
     "data": {
      "text/plain": [
       "False"
      ]
     },
     "execution_count": 6,
     "metadata": {},
     "output_type": "execute_result"
    }
   ],
   "source": [
    "all([True, 1, {3}]) # True, todos son verdaderos\n",
    "all([True, 1, {}]) # False, {} is falso\n",
    "any([True, 1, {}]) # True, True is verdadero\n",
    "print(all([])) # True, no hay elementos falsos en la lista\n",
    "any([]) # False, no hay elementos verdaderos en la lista"
   ]
  }
 ],
 "metadata": {
  "kernelspec": {
   "display_name": "dsfs",
   "language": "python",
   "name": "python3"
  },
  "language_info": {
   "codemirror_mode": {
    "name": "ipython",
    "version": 3
   },
   "file_extension": ".py",
   "mimetype": "text/x-python",
   "name": "python",
   "nbconvert_exporter": "python",
   "pygments_lexer": "ipython3",
   "version": "3.6.13"
  }
 },
 "nbformat": 4,
 "nbformat_minor": 2
}
