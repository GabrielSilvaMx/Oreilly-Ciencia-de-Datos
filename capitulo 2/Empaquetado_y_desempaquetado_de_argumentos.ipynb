{
 "cells": [
  {
   "cell_type": "markdown",
   "metadata": {},
   "source": [
    "Empaquetado y desempaquetado de argumentos"
   ]
  },
  {
   "cell_type": "markdown",
   "metadata": {},
   "source": [
    "A menudo, necesitaremos empaquetar (zip) dos o más iterables juntos. La\n",
    "función zip transforma varios iterables en uno solo de tuplas de función\n",
    "correspondiente:\n"
   ]
  },
  {
   "cell_type": "code",
   "execution_count": null,
   "metadata": {},
   "outputs": [],
   "source": [
    "list1 = ['a', 'b', 'c']\n",
    "list2 = [1, 2, 3]\n",
    "# zip es perezoso, de modo que hay que hacer algo como lo siguiente\n",
    "[pair for pair in zip(list1, list2)] # es [('a', 1), ('b', 2), ('c', 3)]\n"
   ]
  },
  {
   "cell_type": "markdown",
   "metadata": {},
   "source": [
    "Si las listas tienen distintas longitudes, zip se detiene tan pronto como\n",
    "termina la primera lista.\n",
    "También se puede “desempaquetar” una lista utilizando un extraño truco:\n"
   ]
  },
  {
   "cell_type": "code",
   "execution_count": null,
   "metadata": {},
   "outputs": [],
   "source": [
    "pairs = [('a', 1), ('b', 2), ('c', 3)]\n",
    "letters, numbers = zip(*pairs)\n",
    "print(letters, numbers)"
   ]
  },
  {
   "cell_type": "markdown",
   "metadata": {},
   "source": [
    "El asterisco (*) realiza desempaquetado de argumento, que utiliza los\n",
    "elementos de pairs como argumentos individuales para zip. Termina igual\n",
    "que si lo hubiéramos llamado:\n"
   ]
  },
  {
   "cell_type": "code",
   "execution_count": null,
   "metadata": {},
   "outputs": [],
   "source": [
    "letters, numbers = zip(('a', 1), ('b', 2), ('c', 3))"
   ]
  },
  {
   "cell_type": "markdown",
   "metadata": {},
   "source": [
    "Se puede utilizar desempaquetado de argumento con cualquier función:\n"
   ]
  },
  {
   "cell_type": "code",
   "execution_count": null,
   "metadata": {},
   "outputs": [],
   "source": [
    "def add(a, b): return a + b\n",
    "add(1, 2) # devuelve 3\n",
    "try:\n",
    "    add([1, 2])\n",
    "except TypeError:\n",
    "    print(\"add expects two inputs\")\n",
    "add(*[1, 2]) # devuelve 3\n"
   ]
  },
  {
   "cell_type": "markdown",
   "metadata": {},
   "source": [
    "Es raro que encontremos esto útil, pero, cuando lo hacemos, es un truco\n",
    "genial."
   ]
  }
 ],
 "metadata": {
  "kernelspec": {
   "display_name": "dsfs",
   "language": "python",
   "name": "python3"
  },
  "language_info": {
   "name": "python",
   "version": "3.6.13"
  }
 },
 "nbformat": 4,
 "nbformat_minor": 2
}
