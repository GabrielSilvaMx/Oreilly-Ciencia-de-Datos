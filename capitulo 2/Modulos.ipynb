{
 "cells": [
  {
   "cell_type": "markdown",
   "metadata": {},
   "source": [
    "Módulos"
   ]
  },
  {
   "cell_type": "markdown",
   "metadata": {},
   "source": [
    "Ciertas funciones de Python no se cargan por defecto. Entre ellas, hay\n",
    "funciones que están incluidas como parte del lenguaje y funciones externas\n",
    "que cada usuario puede descargar por su cuenta. Para poder utilizar estas\n",
    "funciones es necesario importar los módulos que las contienen.\n",
    "Una forma de hacer esto es simplemente importando el propio módulo:\n"
   ]
  },
  {
   "cell_type": "code",
   "execution_count": null,
   "metadata": {},
   "outputs": [],
   "source": [
    "import re\n",
    "my_regex = re.compile(\"[0-9]+\", re.I)\n"
   ]
  },
  {
   "cell_type": "markdown",
   "metadata": {},
   "source": [
    "\n",
    "Aquí, re es el módulo que contiene funciones y constantes para trabajar\n",
    "con expresiones regulares. Tras este tipo de import hay que poner delante de\n",
    "esas funciones el prefijo re. para poder acceder a ellas.\n",
    "Si ya había un re distinto en el código que se está utilizando, se puede\n",
    "emplear otro nombre:\n"
   ]
  },
  {
   "cell_type": "code",
   "execution_count": null,
   "metadata": {},
   "outputs": [],
   "source": [
    "\n",
    "import re as regex\n",
    "my_regex = regex.compile(\"[0-9]+\", regex.I)\n"
   ]
  },
  {
   "cell_type": "markdown",
   "metadata": {},
   "source": [
    "También se podría hacer esto si el módulo tiene un nombre poco\n",
    "manejable o si se va a escribir muy a menudo. Por ejemplo, un convenio\n",
    "estándar cuando se visualizan datos con matplotlib es:\n"
   ]
  },
  {
   "cell_type": "code",
   "execution_count": null,
   "metadata": {},
   "outputs": [],
   "source": [
    "import matplotlib.pyplot as plt\n",
    "plt.plot(...)\n"
   ]
  },
  {
   "cell_type": "markdown",
   "metadata": {},
   "source": [
    "Si se necesitan algunos valores específicos de un módulo, se pueden\n",
    "importar de manera explícita y utilizarlos sin reservas:\n"
   ]
  },
  {
   "cell_type": "code",
   "execution_count": null,
   "metadata": {},
   "outputs": [],
   "source": [
    "from collections import defaultdict, Counter\n",
    "lookup = defaultdict(int)\n",
    "my_counter = Counter()\n"
   ]
  },
  {
   "cell_type": "markdown",
   "metadata": {},
   "source": [
    "\n",
    "Siendo malas personas, podríamos importar el contenido completo de un\n",
    "módulo en nuestro espacio de nombres, lo que podría sobrescribir\n",
    "involuntariamente variables que ya estaban definidas:\n"
   ]
  },
  {
   "cell_type": "code",
   "execution_count": null,
   "metadata": {},
   "outputs": [],
   "source": [
    "\n",
    "match = 10\n",
    "from re import * # oh, oh, re tiene una función que se llama igual\n",
    "print(match) # \"<function match at 0x10281e6a8>\"\n"
   ]
  },
  {
   "cell_type": "markdown",
   "metadata": {},
   "source": [
    "\n",
    "Pero, como en realidad no somos malas personas, nunca haremos esto."
   ]
  }
 ],
 "metadata": {
  "kernelspec": {
   "display_name": "dsfs",
   "language": "python",
   "name": "python3"
  },
  "language_info": {
   "name": "python",
   "version": "3.6.13"
  }
 },
 "nbformat": 4,
 "nbformat_minor": 2
}
