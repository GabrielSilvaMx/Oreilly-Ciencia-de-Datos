{
 "cells": [
  {
   "cell_type": "markdown",
   "metadata": {},
   "source": [
    "Listas"
   ]
  },
  {
   "cell_type": "markdown",
   "metadata": {},
   "source": [
    "Probablemente la estructura de datos más esencial de Python es la lista,\n",
    "que no es más que una colección ordenada (similar a lo que en otros\n",
    "lenguajes se podría denominar array, pero con funcionalidad añadida):\n"
   ]
  },
  {
   "cell_type": "code",
   "execution_count": 2,
   "metadata": {},
   "outputs": [
    {
     "name": "stdout",
     "output_type": "stream",
     "text": [
      "['string', 0.1, True]\n"
     ]
    }
   ],
   "source": [
    "integer_list = [1, 2, 3]\n",
    "heterogeneous_list = [\"string\", 0.1, True]\n",
    "list_of_lists = [integer_list, heterogeneous_list, []]\n",
    "list_length = len(integer_list) # es igual a 3\n",
    "list_sum = sum(integer_list) # es igual a 6\n",
    "print(heterogeneous_list)"
   ]
  },
  {
   "cell_type": "markdown",
   "metadata": {},
   "source": [
    "Se puede obtener o establecer el elemento n de una lista con corchetes:\n"
   ]
  },
  {
   "cell_type": "code",
   "execution_count": 3,
   "metadata": {},
   "outputs": [
    {
     "name": "stdout",
     "output_type": "stream",
     "text": [
      "[-1, 1, 2, 3, 4, 5, 6, 7, 8, 9]\n"
     ]
    }
   ],
   "source": [
    "x = [0, 1, 2, 3, 4, 5, 6, 7, 8, 9]\n",
    "zero = x[0] # es igual a 0, las listas están indexadas al 0\n",
    "one = x[1] # es igual a 1\n",
    "nine = x[-1] # es igual a 9, ‘pitónico’ para el último elemento\n",
    "eight = x[-2] # es igual a 8, ‘pitónico’ para el penúltimo elemento\n",
    "x[0] = -1 # ahora x es [-1, 1, 2, 3, ..., 9]\n",
    "print(x)"
   ]
  },
  {
   "cell_type": "markdown",
   "metadata": {},
   "source": [
    "También se pueden utilizar corchetes para crear slices en listas (cortes o\n",
    "arreglos). El corte i:j significa todos los elementos desde i (incluido) hasta j\n",
    "(excluido). Si dejamos fuera el principio del corte, lo extraeremos desde el\n",
    "principio de la lista, pero, si dejamos fuera el final del corte, lo extraeremos\n",
    "hasta el final:\n"
   ]
  },
  {
   "cell_type": "code",
   "execution_count": null,
   "metadata": {},
   "outputs": [],
   "source": [
    "first_three = x[:3] # [-1, 1, 2]\n",
    "three_to_end = x[3:] # [3, 4, ..., 9]\n",
    "one_to_four = x[1:5] # [1, 2, 3, 4]\n",
    "last_three = x[-3:] # [7, 8, 9]\n",
    "without_first_and_last = x[1:-1] # [1, 2, ..., 8]\n",
    "copy_of_x = x[:] # [-1, 1, 2, ..., 9]\n"
   ]
  },
  {
   "cell_type": "markdown",
   "metadata": {},
   "source": [
    "De forma similar se pueden crear cortes de cadenas y otros tipos\n",
    "“secuenciales”.\n",
    "Un corte puede admitir un tercer argumento para indicar su stride\n",
    "(avance), que puede ser negativo:\n"
   ]
  },
  {
   "cell_type": "code",
   "execution_count": null,
   "metadata": {},
   "outputs": [],
   "source": [
    "every_third = x[::3] # [-1, 3, 6, 9]\n",
    "five_to_three = x[5:2:-1] # [5, 4, 3]\n",
    "# Python tiene un operador in para comprobar los miembros de la lista:\n",
    "1 in [1, 2, 3] # True\n",
    "0 in [1, 2, 3] # False\n"
   ]
  },
  {
   "cell_type": "markdown",
   "metadata": {},
   "source": [
    "Esta comprobación implica examinar los elementos de la lista de uno en\n",
    "uno, lo que significa que probablemente no se debería utilizar a menos que se\n",
    "sepa que la lista es pequeña (o a menos que no nos preocupe el tiempo que\n",
    "tarde en hacerse la comprobación).\n",
    "Es fácil concatenar listas. Si se desea modificar una lista en su lugar, se\n",
    "puede utilizar extend para añadir elementos de otra colección:\n"
   ]
  },
  {
   "cell_type": "code",
   "execution_count": null,
   "metadata": {},
   "outputs": [],
   "source": [
    "x = [1, 2, 3]\n",
    "x.extend([4, 5, 6]) # x es ahora [1, 2, 3, 4, 5, 6]\n"
   ]
  },
  {
   "cell_type": "markdown",
   "metadata": {},
   "source": [
    "Si no queremos modificar x, podemos ampliar la lista:\n"
   ]
  },
  {
   "cell_type": "code",
   "execution_count": null,
   "metadata": {},
   "outputs": [],
   "source": [
    "x = [1, 2, 3]\n",
    "y = x + [4, 5, 6] # y es [1, 2, 3, 4, 5, 6]; x no ha cambiado\n"
   ]
  },
  {
   "cell_type": "markdown",
   "metadata": {},
   "source": [
    "Lo más frecuente que haremos será añadir elementos a listas uno a uno:\n"
   ]
  },
  {
   "cell_type": "code",
   "execution_count": null,
   "metadata": {},
   "outputs": [],
   "source": [
    "x = [1, 2, 3]\n",
    "x.append(0) # x es ahora [1, 2, 3, 0]\n",
    "y = x[-1] # es igual a 0\n",
    "z = len(x) # es igual a 4\n"
   ]
  },
  {
   "cell_type": "markdown",
   "metadata": {},
   "source": [
    "A menudo, es conveniente desempaquetar listas cuando se sabe cuántos\n",
    "elementos contienen:\n"
   ]
  },
  {
   "cell_type": "code",
   "execution_count": null,
   "metadata": {},
   "outputs": [],
   "source": [
    "x, y = [1, 2] # ahora x es 1, y es 2\n"
   ]
  },
  {
   "cell_type": "markdown",
   "metadata": {},
   "source": [
    "Aunque obtendremos un ValueError si no tenemos el mismo número de\n",
    "elementos en ambos lados.\n",
    "Algo que se utiliza habitualmente es un carácter de subrayado para un\n",
    "valor del que nos vamos a deshacer:\n"
   ]
  },
  {
   "cell_type": "code",
   "execution_count": null,
   "metadata": {},
   "outputs": [],
   "source": [
    "_, y = [1, 2] # ahora y == 2, no nos importa el primer elemento"
   ]
  }
 ],
 "metadata": {
  "kernelspec": {
   "display_name": "dsfs",
   "language": "python",
   "name": "python3"
  },
  "language_info": {
   "codemirror_mode": {
    "name": "ipython",
    "version": 3
   },
   "file_extension": ".py",
   "mimetype": "text/x-python",
   "name": "python",
   "nbconvert_exporter": "python",
   "pygments_lexer": "ipython3",
   "version": "3.6.13"
  }
 },
 "nbformat": 4,
 "nbformat_minor": 2
}
