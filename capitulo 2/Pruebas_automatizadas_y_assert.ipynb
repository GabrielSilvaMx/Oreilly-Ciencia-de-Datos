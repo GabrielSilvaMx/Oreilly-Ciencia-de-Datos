{
 "cells": [
  {
   "cell_type": "markdown",
   "metadata": {},
   "source": [
    "Pruebas automatizadas y assert"
   ]
  },
  {
   "cell_type": "markdown",
   "metadata": {},
   "source": [
    "Como científicos de datos, escribiremos mucho código. ¿Cómo podemos\n",
    "estar seguros de que nuestro código es correcto? Una forma es con tipos (de\n",
    "los que hablaremos en breve), pero otra forma es con automated tests o\n",
    "pruebas automatizadas.\n",
    "Hay estructuras muy complicadas para escribir y ejecutar pruebas, pero en\n",
    "este libro nos limitaremos a utilizar sentencias assert, que harán que el\n",
    "código levante un AssertionError si la condición especificada no es\n",
    "verdadera:\n"
   ]
  },
  {
   "cell_type": "code",
   "execution_count": 1,
   "metadata": {},
   "outputs": [],
   "source": [
    "assert 1 + 1 == 2\n",
    "assert 1 + 1 == 2, \"1 + 1 should equal 2 but didn't\""
   ]
  },
  {
   "cell_type": "markdown",
   "metadata": {},
   "source": [
    "Como podemos ver en el segundo caso, se puede añadir si se desea un\n",
    "mensaje que se imprimirá si la evaluación falla.\n",
    "No es especialmente interesante evaluar que 1 + 1 = 2, pero lo es mucho\n",
    "más verificar que las funciones que escribamos hagan lo que se espera de\n",
    "ellas:\n"
   ]
  },
  {
   "cell_type": "code",
   "execution_count": null,
   "metadata": {},
   "outputs": [],
   "source": [
    "def smallest_item(xs):\n",
    "    return min(xs)\n",
    "assert smallest_item([10, 20, 5, 40]) == 5\n",
    "assert smallest_item([1, 0, -1, 2]) == -1"
   ]
  },
  {
   "cell_type": "markdown",
   "metadata": {},
   "source": [
    "A lo largo del libro utilizaremos assert de esta forma. Es una buena\n",
    "práctica, y yo animo a utilizar libremente esta sentencia (en el código del\n",
    "libro que encontramos en GitHub se comprueba que contiene muchas más\n",
    "sentencias assert de las que aparecen impresas en el libro, lo que me permite\n",
    "estar seguro de que el código que he escrito es correcto).\n",
    "Otro uso menos habitual es evaluar cosas sobre entradas a funciones:\n"
   ]
  },
  {
   "cell_type": "code",
   "execution_count": null,
   "metadata": {},
   "outputs": [],
   "source": [
    "def smallest_item(xs):\n",
    "    assert xs, \"empty list has no smallest item\"\n",
    "    return min(xs)"
   ]
  },
  {
   "cell_type": "markdown",
   "metadata": {},
   "source": [
    "Haremos esto de vez en cuando, pero será más frecuente utilizar assert para verificar que el código escrito es correcto\n"
   ]
  }
 ],
 "metadata": {
  "kernelspec": {
   "display_name": "dsfs",
   "language": "python",
   "name": "python3"
  },
  "language_info": {
   "codemirror_mode": {
    "name": "ipython",
    "version": 3
   },
   "file_extension": ".py",
   "mimetype": "text/x-python",
   "name": "python",
   "nbconvert_exporter": "python",
   "pygments_lexer": "ipython3",
   "version": "3.6.13"
  }
 },
 "nbformat": 4,
 "nbformat_minor": 2
}
