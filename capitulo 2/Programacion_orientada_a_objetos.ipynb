{
 "cells": [
  {
   "cell_type": "markdown",
   "metadata": {},
   "source": [
    "Programación orientada a objetos\n"
   ]
  },
  {
   "cell_type": "markdown",
   "metadata": {},
   "source": [
    "Como muchos lenguajes, Python permite definir clases que encapsulan los\n",
    "datos y las funciones que operan con ellos. Las utilizaremos algunas veces\n",
    "para que nuestro código sea más limpio y sencillo. Probablemente, es más\n",
    "fácil explicarlas construyendo un ejemplo con muchas anotaciones.\n",
    "Aquí vamos a crear una clase que represente un “contador de clics”, del\n",
    "tipo de los que se ponen en la puerta para controlar cuántas personas han\n",
    "acudido al encuentro “Temas avanzados sobre ciencia de datos”.\n",
    "Mantiene un contador (count), se le puede hacer clic (clicked) para\n",
    "aumentar la cuenta, permite lectura de contador (read_count) y se puede\n",
    "reiniciar (reset) de vuelta a cero (en la vida real una de estas clases pasa de\n",
    "9999 a 0000, pero no vamos a preocuparnos de eso ahora).\n",
    "Para definir una clase, utilizamos la palabra clave class y un nombre de\n",
    "tipo PascalCase:\n"
   ]
  },
  {
   "cell_type": "code",
   "execution_count": null,
   "metadata": {},
   "outputs": [],
   "source": [
    "class CountingClicker:\n",
    "    \"\"\"A class can/should have a doctring, just like a function\"\"\"\n"
   ]
  },
  {
   "cell_type": "markdown",
   "metadata": {},
   "source": [
    "Una clase contiene cero o más funciones miembro. Por convenio, cada\n",
    "una toma un primer parámetro, self, que se refiere a la instancia en particular\n",
    "de la clase.\n",
    "Normalmente, una clase tiene un constructor, llamado __init__, que toma\n",
    "los parámetros que necesita para construir una instancia de dicha clase y hace\n",
    "cualquier configuración que se necesite:\n"
   ]
  },
  {
   "cell_type": "code",
   "execution_count": null,
   "metadata": {},
   "outputs": [],
   "source": [
    "def __init__(self, count = 0):\n",
    "    self.count = count\n"
   ]
  },
  {
   "cell_type": "markdown",
   "metadata": {},
   "source": [
    "Aunque el constructor tiene un nombre divertido, construimos las\n",
    "instancias del contador de clics utilizando solamente el nombre de la clase:\n"
   ]
  },
  {
   "cell_type": "code",
   "execution_count": null,
   "metadata": {},
   "outputs": [],
   "source": [
    "clicker1 = CountingClicker() # inicializado a 0\n",
    "clicker2 = CountingClicker(100) # empieza con count=100\n",
    "clicker3 = CountingClicker(count=100)\n",
    "# forma más explícita de hacer lo mismo\n"
   ]
  },
  {
   "cell_type": "markdown",
   "metadata": {},
   "source": [
    "Vemos que el nombre del método __init__ empieza y termina con\n",
    "guiones bajos. A veces a estos métodos “mágicos” se les llama métodos\n",
    "“dunder” (término inventado que viene de doubleUNDERscore, es decir,\n",
    "doble guion bajo) y representan comportamientos “especiales”.\n",
    "-Nota: Los métodos de clase cuyos nombres empiezan con un guion bajo se\n",
    "consideran (por convenio) “privados”, y se supone que los usuarios de esa\n",
    "clase no les llaman directamente. Sin embargo, Python no impide a los\n",
    "usuarios llamarlos. -\n",
    "Otro método similar es __repr__, que produce la representación de\n",
    "cadena de una instancia de clase:\n"
   ]
  },
  {
   "cell_type": "code",
   "execution_count": null,
   "metadata": {},
   "outputs": [],
   "source": [
    "def __repr__(self):\n",
    "    return f\"CountingClicker(count={self.count})\"\n"
   ]
  },
  {
   "cell_type": "markdown",
   "metadata": {},
   "source": [
    "Y finalmente tenemos que implementar la API pública de la clase que\n",
    "hemos creado:\n"
   ]
  },
  {
   "cell_type": "code",
   "execution_count": null,
   "metadata": {},
   "outputs": [],
   "source": [
    "def click(self, num_times = 1):\n",
    "    \"\"\"Click the clicker some number ot times.\"\"\"\n",
    "    self.count += num_times\n",
    "    def read(self):\n",
    "    return self.count\n",
    "def reset(self):\n",
    "    self.count = 0\n"
   ]
  },
  {
   "cell_type": "markdown",
   "metadata": {},
   "source": [
    "Una vez definido, utilicemos assert para escribir algunos casos de prueba\n",
    "para nuestro contador de clics:\n"
   ]
  },
  {
   "cell_type": "code",
   "execution_count": null,
   "metadata": {},
   "outputs": [],
   "source": [
    "clicker = CountingClicker()\n",
    "assert clicker.read() == 0, \"clicker should start with count 0\"\n",
    "clicker.click()\n",
    "clicker.click()\n",
    "assert clicker.read() == 2, \"after two clicks, clicker should have count 2\"\n",
    "clicker.reset()\n",
    "assert clicker.read() == 0, \"after reset, clicker should be back to 0\"\n"
   ]
  },
  {
   "cell_type": "markdown",
   "metadata": {},
   "source": [
    "Escribir pruebas como estas nos permite estar seguros de que nuestro\n",
    "código esté funcionando tal y como está diseñado, y que esto va a seguir\n",
    "siendo así siempre que le hagamos cambios.\n",
    "También crearemos de vez en cuando subclases que heredan parte de su\n",
    "funcionalidad de una clase padre. Por ejemplo, podríamos crear un contador\n",
    "de clics no reiniciable utilizando CountingClicker como clase base y\n",
    "anulando el método reset para que no haga nada:\n"
   ]
  },
  {
   "cell_type": "code",
   "execution_count": null,
   "metadata": {},
   "outputs": [],
   "source": [
    "# Una subclase hereda todo el comportamiento de su clase padre.\n",
    "class NoResetClicker(CountingClicker):\n",
    "# Esta clase tiene los mismos métodos que CountingClicker\n",
    "# Salvo que tiene un método reset que no hace nada.\n",
    "    def reset(self):\n",
    "        pass\n",
    "clicker2 = NoResetClicker()\n",
    "assert clicker2.read() == 0\n",
    "clicker2.click()\n",
    "assert clicker2.read() == 1\n",
    "clicker2.reset()\n",
    "assert clicker2.read() == 1, \"reset shouldn't do anything\""
   ]
  }
 ],
 "metadata": {
  "language_info": {
   "name": "python"
  }
 },
 "nbformat": 4,
 "nbformat_minor": 2
}
