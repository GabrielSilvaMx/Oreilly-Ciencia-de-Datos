{
 "cells": [
  {
   "cell_type": "markdown",
   "metadata": {},
   "source": [
    "Aleatoriedad"
   ]
  },
  {
   "cell_type": "markdown",
   "metadata": {},
   "source": [
    "A medida que aprendamos ciencia de datos, necesitaremos con frecuencia\n",
    "generar números aleatorios, lo que podemos hacer con el módulo random:\n"
   ]
  },
  {
   "cell_type": "code",
   "execution_count": 4,
   "metadata": {},
   "outputs": [
    {
     "name": "stdout",
     "output_type": "stream",
     "text": [
      "[0.5714025946899135, 0.4288890546751146, 0.5780913011344704, 0.20609823213950174]\n"
     ]
    }
   ],
   "source": [
    "import random\n",
    "random.seed(10) # esto asegura que obtenemos los mismos resultados cada vez\n",
    "four_uniform_randoms = [random.random() for _ in range(4)]\n",
    "# [0.5714025946899135, # random.random() produce números\n",
    "# 0.4288890546751146, # de manera uniforme entre 0 y 1.\n",
    "# 0.5780913011344704, # Es la función random que utilizaremos\n",
    "# 0.20609823213950174] # con más frecuencia.\n",
    "print(four_uniform_randoms)"
   ]
  },
  {
   "cell_type": "markdown",
   "metadata": {},
   "source": [
    "El módulo random produce en realidad números pseudoaleatorios (es\n",
    "decir, deterministas) basados en un estado interno que se puede configurar\n",
    "con random.seed si lo que se desea es obtener resultados reproducibles:\n"
   ]
  },
  {
   "cell_type": "code",
   "execution_count": 7,
   "metadata": {},
   "outputs": [
    {
     "name": "stdout",
     "output_type": "stream",
     "text": [
      "0.5714025946899135\n",
      "0.5714025946899135\n"
     ]
    }
   ],
   "source": [
    "random.seed(10) # establece la semilla en 10\n",
    "print(random.random()) # 0.57140259469\n",
    "random.seed(10) # reinicia la semilla en 10\n",
    "print(random.random()) # 0.57140259469 de nuevo\n"
   ]
  },
  {
   "cell_type": "markdown",
   "metadata": {},
   "source": [
    "Algunas veces utilizaremos random.randrange, que toma uno o dos\n",
    "argumentos y devuelve un elemento elegido aleatoriamente del range\n",
    "correspondiente:\n"
   ]
  },
  {
   "cell_type": "code",
   "execution_count": 15,
   "metadata": {},
   "outputs": [
    {
     "data": {
      "text/plain": [
       "5"
      ]
     },
     "execution_count": 15,
     "metadata": {},
     "output_type": "execute_result"
    }
   ],
   "source": [
    "random.randrange(10) # selecciona aleatoriamente de range(10) = [0, 1, ..., 9]\n",
    "random.randrange(3, 6) # selecciona aleatoriamente de range(3, 6) = [3, 4, 5]"
   ]
  },
  {
   "cell_type": "markdown",
   "metadata": {},
   "source": [
    "Hay varios métodos más que en ocasiones nos resultarán convenientes.\n",
    "Por ejemplo, random.shuffle reordena aleatoriamente los elementos de una\n",
    "lista:\n"
   ]
  },
  {
   "cell_type": "code",
   "execution_count": 17,
   "metadata": {},
   "outputs": [
    {
     "name": "stdout",
     "output_type": "stream",
     "text": [
      "[4, 7, 1, 9, 3, 6, 2, 8, 10, 5]\n"
     ]
    }
   ],
   "source": [
    "up_to_ten = [1, 2, 3, 4, 5, 6, 7, 8, 9, 10]\n",
    "random.shuffle(up_to_ten)\n",
    "print(up_to_ten) # [7, 2, 6, 8, 9, 4, 10, 1, 3, 5] (sus resultados serán probablemente diferentes)\n"
   ]
  },
  {
   "cell_type": "markdown",
   "metadata": {},
   "source": [
    "Si se necesita elegir aleatoriamente un elemento de una lista, se puede\n",
    "utilizar random.choice:\n"
   ]
  },
  {
   "cell_type": "code",
   "execution_count": 18,
   "metadata": {},
   "outputs": [],
   "source": [
    "my_best_friend = random.choice([\"Alice\", \"Bob\", \"Charlie\"]) # \"Bob\" para mi"
   ]
  },
  {
   "cell_type": "markdown",
   "metadata": {},
   "source": [
    "Y, si lo que hace falta es elegir aleatoriamente una muestra de elementos\n",
    "sin sustituto (es decir, sin duplicados), se puede utilizar random.sample:\n"
   ]
  },
  {
   "cell_type": "code",
   "execution_count": 19,
   "metadata": {},
   "outputs": [],
   "source": [
    "lottery_numbers = range(60)\n",
    "winning_numbers = random.sample(lottery_numbers, 6) # [16, 36, 10, 6, 25, 9]\n"
   ]
  },
  {
   "cell_type": "markdown",
   "metadata": {},
   "source": [
    "Para elegir una muestra de elementos con sustituto (es decir, que permita\n",
    "duplicados), simplemente basta con hacer varias llamadas a random.choice:\n"
   ]
  },
  {
   "cell_type": "code",
   "execution_count": null,
   "metadata": {},
   "outputs": [],
   "source": [
    "four_with_replacement = [random.choice(range(10)) for _ in range(4)]\n",
    "print(four_with_replacement) # [9, 4, 4, 2]"
   ]
  }
 ],
 "metadata": {
  "kernelspec": {
   "display_name": "dsfs",
   "language": "python",
   "name": "python3"
  },
  "language_info": {
   "codemirror_mode": {
    "name": "ipython",
    "version": 3
   },
   "file_extension": ".py",
   "mimetype": "text/x-python",
   "name": "python",
   "nbconvert_exporter": "python",
   "pygments_lexer": "ipython3",
   "version": "3.6.13"
  }
 },
 "nbformat": 4,
 "nbformat_minor": 2
}
